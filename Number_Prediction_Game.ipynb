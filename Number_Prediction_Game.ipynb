{
 "cells": [
  {
   "cell_type": "code",
   "execution_count": 3,
   "metadata": {},
   "outputs": [],
   "source": [
    "import random\n",
    "\n",
    "def guessGame():\n",
    "    \n",
    "    while True:\n",
    "        while True:\n",
    "            try:\n",
    "                low, high = map(int,input(\"Enter a lower number and a higher numer for your game.\").split())\n",
    "                break\n",
    "            except ValueError:\n",
    "                print(\"Enter valid numbers please.\")\n",
    "            \n",
    "        if low > high:\n",
    "            print(\"The lower number can't be greater then the higher number.\")\n",
    "        elif low+10 >= high:\n",
    "            print(\"At least lower number must be 10 less then the higher number\")\n",
    "        else:\n",
    "            break\n",
    "    \n",
    "    find_me = random.randint(low,high)\n",
    "    print(\"You have 6 chances to find the number...\")\n",
    "    chances = 6\n",
    "    flag = 0\n",
    "    while chances:\n",
    "        chances-=1 \n",
    "        guess = int(input(\"Enter your guess : \"))\n",
    "        if guess<high and guess>low:\n",
    "            if guess < find_me:\n",
    "                print(\"The number you have entered a number less then the predicted number.\",end=\"//\")\n",
    "                print(\"{0} chances left.\",format(chances))\n",
    "            elif guess > find_me:\n",
    "                print(\"The number you have entered a number greater then the predicted number.\",end=\"//\")\n",
    "                print(\"{0} chances left.\",format(chances))\n",
    "            else:\n",
    "                print(\"Congrats!! you have succesfully guessed the right answer.\")\n",
    "                return\n",
    "            \n",
    "        else:\n",
    "            print(\"You must not input number out of range\")\n",
    "            print(\"{0} chances left.\".format(chances))\n",
    "            \n",
    "    print(\"The predicted number was {0}\",format(find_me))\n"
   ]
  },
  {
   "cell_type": "code",
   "execution_count": 4,
   "metadata": {},
   "outputs": [
    {
     "name": "stdout",
     "output_type": "stream",
     "text": [
      "Enter a lower number and a higher numer for your game.45\n",
      "Enter valid numbers please.\n",
      "Enter a lower number and a higher numer for your game.45 45\n",
      "At least lower number must be 10 less then the higher number\n",
      "Enter a lower number and a higher numer for your game.34 67\n",
      "You have 6 chances to find the number...\n",
      "Enter your guess : 43\n",
      "The number you have entered a number less then the predicted number.//{0} chances left. 5\n",
      "Enter your guess : 4\n",
      "You must not input number out of range\n",
      "4 chances left.\n",
      "Enter your guess : 3\n",
      "You must not input number out of range\n",
      "3 chances left.\n",
      "Enter your guess : 5\n",
      "You must not input number out of range\n",
      "2 chances left.\n",
      "Enter your guess : 3\n",
      "You must not input number out of range\n",
      "1 chances left.\n",
      "Enter your guess : 4\n",
      "You must not input number out of range\n",
      "0 chances left.\n",
      "The predicted number was {0} 58\n"
     ]
    }
   ],
   "source": [
    "guessGame()"
   ]
  },
  {
   "cell_type": "code",
   "execution_count": null,
   "metadata": {},
   "outputs": [],
   "source": []
  }
 ],
 "metadata": {
  "kernelspec": {
   "display_name": "Python 3",
   "language": "python",
   "name": "python3"
  },
  "language_info": {
   "codemirror_mode": {
    "name": "ipython",
    "version": 3
   },
   "file_extension": ".py",
   "mimetype": "text/x-python",
   "name": "python",
   "nbconvert_exporter": "python",
   "pygments_lexer": "ipython3",
   "version": "3.6.5"
  }
 },
 "nbformat": 4,
 "nbformat_minor": 2
}
